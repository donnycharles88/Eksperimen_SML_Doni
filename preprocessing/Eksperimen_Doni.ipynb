{
  "nbformat": 4,
  "nbformat_minor": 0,
  "metadata": {
    "colab": {
      "provenance": []
    },
    "kernelspec": {
      "name": "python3",
      "display_name": "Python 3"
    },
    "language_info": {
      "name": "python"
    }
  },
  "cells": [
    {
      "cell_type": "markdown",
      "source": [
        "# **1. Perkenalan Dataset**\n"
      ],
      "metadata": {
        "id": "kZLRMFl0JyyQ"
      }
    },
    {
      "cell_type": "markdown",
      "source": [
        "Tahap pertama, Anda harus mencari dan menggunakan dataset dengan ketentuan sebagai berikut:\n",
        "\n",
        "1. **Sumber Dataset**:  \n",
        "   Dataset dapat diperoleh dari berbagai sumber, seperti public repositories (*Kaggle*, *UCI ML Repository*, *Open Data*) atau data primer yang Anda kumpulkan sendiri.\n"
      ],
      "metadata": {
        "id": "hssSDn-5n3HR"
      }
    },
    {
      "cell_type": "markdown",
      "source": [
        "# Dataset berasal dari Kaggle '**All Computer Prices**'\n",
        "[link text](https://www.kaggle.com/datasets/paperxd/all-computer-prices/)"
      ],
      "metadata": {
        "id": "YjjOTyeLRKc5"
      }
    },
    {
      "cell_type": "markdown",
      "source": [
        "# **2. Import Library**"
      ],
      "metadata": {
        "id": "fKADPWcFKlj3"
      }
    },
    {
      "cell_type": "markdown",
      "source": [
        "Pada tahap ini, Anda perlu mengimpor beberapa pustaka (library) Python yang dibutuhkan untuk analisis data dan pembangunan model machine learning atau deep learning."
      ],
      "metadata": {
        "id": "LgA3ERnVn84N"
      }
    },
    {
      "cell_type": "code",
      "source": [
        "#Type your code here\n",
        "import os\n",
        "import pandas as pd\n",
        "import numpy as np\n",
        "import seaborn as sns\n",
        "import matplotlib.pyplot as plt\n",
        "from sklearn.preprocessing import MinMaxScaler\n",
        "from scipy import stats\n",
        "from sklearn.preprocessing import LabelEncoder\n",
        "from google.colab import files\n"
      ],
      "metadata": {
        "id": "BlmvjLY9M4Yj"
      },
      "execution_count": null,
      "outputs": []
    },
    {
      "cell_type": "markdown",
      "source": [
        "# **3. Memuat Dataset**"
      ],
      "metadata": {
        "id": "f3YIEnAFKrKL"
      }
    },
    {
      "cell_type": "markdown",
      "source": [
        "Pada tahap ini, Anda perlu memuat dataset ke dalam notebook. Jika dataset dalam format CSV, Anda bisa menggunakan pustaka pandas untuk membacanya. Pastikan untuk mengecek beberapa baris awal dataset untuk memahami strukturnya dan memastikan data telah dimuat dengan benar.\n",
        "\n",
        "Jika dataset berada di Google Drive, pastikan Anda menghubungkan Google Drive ke Colab terlebih dahulu. Setelah dataset berhasil dimuat, langkah berikutnya adalah memeriksa kesesuaian data dan siap untuk dianalisis lebih lanjut.\n",
        "\n",
        "Jika dataset berupa unstructured data, silakan sesuaikan dengan format seperti kelas Machine Learning Pengembangan atau Machine Learning Terapan"
      ],
      "metadata": {
        "id": "Ey3ItwTen_7E"
      }
    },
    {
      "cell_type": "code",
      "source": [
        "# Upload file dari lokal\n",
        "uploaded = files.upload()"
      ],
      "metadata": {
        "id": "GHCGNTyrM5fS",
        "colab": {
          "base_uri": "https://localhost:8080/",
          "height": 73
        },
        "outputId": "c0a834bf-e829-4730-d760-819364ef8675"
      },
      "execution_count": null,
      "outputs": [
        {
          "output_type": "display_data",
          "data": {
            "text/plain": [
              "<IPython.core.display.HTML object>"
            ],
            "text/html": [
              "\n",
              "     <input type=\"file\" id=\"files-05feb82e-253a-40f4-bc07-ecb2a01897dd\" name=\"files[]\" multiple disabled\n",
              "        style=\"border:none\" />\n",
              "     <output id=\"result-05feb82e-253a-40f4-bc07-ecb2a01897dd\">\n",
              "      Upload widget is only available when the cell has been executed in the\n",
              "      current browser session. Please rerun this cell to enable.\n",
              "      </output>\n",
              "      <script>// Copyright 2017 Google LLC\n",
              "//\n",
              "// Licensed under the Apache License, Version 2.0 (the \"License\");\n",
              "// you may not use this file except in compliance with the License.\n",
              "// You may obtain a copy of the License at\n",
              "//\n",
              "//      http://www.apache.org/licenses/LICENSE-2.0\n",
              "//\n",
              "// Unless required by applicable law or agreed to in writing, software\n",
              "// distributed under the License is distributed on an \"AS IS\" BASIS,\n",
              "// WITHOUT WARRANTIES OR CONDITIONS OF ANY KIND, either express or implied.\n",
              "// See the License for the specific language governing permissions and\n",
              "// limitations under the License.\n",
              "\n",
              "/**\n",
              " * @fileoverview Helpers for google.colab Python module.\n",
              " */\n",
              "(function(scope) {\n",
              "function span(text, styleAttributes = {}) {\n",
              "  const element = document.createElement('span');\n",
              "  element.textContent = text;\n",
              "  for (const key of Object.keys(styleAttributes)) {\n",
              "    element.style[key] = styleAttributes[key];\n",
              "  }\n",
              "  return element;\n",
              "}\n",
              "\n",
              "// Max number of bytes which will be uploaded at a time.\n",
              "const MAX_PAYLOAD_SIZE = 100 * 1024;\n",
              "\n",
              "function _uploadFiles(inputId, outputId) {\n",
              "  const steps = uploadFilesStep(inputId, outputId);\n",
              "  const outputElement = document.getElementById(outputId);\n",
              "  // Cache steps on the outputElement to make it available for the next call\n",
              "  // to uploadFilesContinue from Python.\n",
              "  outputElement.steps = steps;\n",
              "\n",
              "  return _uploadFilesContinue(outputId);\n",
              "}\n",
              "\n",
              "// This is roughly an async generator (not supported in the browser yet),\n",
              "// where there are multiple asynchronous steps and the Python side is going\n",
              "// to poll for completion of each step.\n",
              "// This uses a Promise to block the python side on completion of each step,\n",
              "// then passes the result of the previous step as the input to the next step.\n",
              "function _uploadFilesContinue(outputId) {\n",
              "  const outputElement = document.getElementById(outputId);\n",
              "  const steps = outputElement.steps;\n",
              "\n",
              "  const next = steps.next(outputElement.lastPromiseValue);\n",
              "  return Promise.resolve(next.value.promise).then((value) => {\n",
              "    // Cache the last promise value to make it available to the next\n",
              "    // step of the generator.\n",
              "    outputElement.lastPromiseValue = value;\n",
              "    return next.value.response;\n",
              "  });\n",
              "}\n",
              "\n",
              "/**\n",
              " * Generator function which is called between each async step of the upload\n",
              " * process.\n",
              " * @param {string} inputId Element ID of the input file picker element.\n",
              " * @param {string} outputId Element ID of the output display.\n",
              " * @return {!Iterable<!Object>} Iterable of next steps.\n",
              " */\n",
              "function* uploadFilesStep(inputId, outputId) {\n",
              "  const inputElement = document.getElementById(inputId);\n",
              "  inputElement.disabled = false;\n",
              "\n",
              "  const outputElement = document.getElementById(outputId);\n",
              "  outputElement.innerHTML = '';\n",
              "\n",
              "  const pickedPromise = new Promise((resolve) => {\n",
              "    inputElement.addEventListener('change', (e) => {\n",
              "      resolve(e.target.files);\n",
              "    });\n",
              "  });\n",
              "\n",
              "  const cancel = document.createElement('button');\n",
              "  inputElement.parentElement.appendChild(cancel);\n",
              "  cancel.textContent = 'Cancel upload';\n",
              "  const cancelPromise = new Promise((resolve) => {\n",
              "    cancel.onclick = () => {\n",
              "      resolve(null);\n",
              "    };\n",
              "  });\n",
              "\n",
              "  // Wait for the user to pick the files.\n",
              "  const files = yield {\n",
              "    promise: Promise.race([pickedPromise, cancelPromise]),\n",
              "    response: {\n",
              "      action: 'starting',\n",
              "    }\n",
              "  };\n",
              "\n",
              "  cancel.remove();\n",
              "\n",
              "  // Disable the input element since further picks are not allowed.\n",
              "  inputElement.disabled = true;\n",
              "\n",
              "  if (!files) {\n",
              "    return {\n",
              "      response: {\n",
              "        action: 'complete',\n",
              "      }\n",
              "    };\n",
              "  }\n",
              "\n",
              "  for (const file of files) {\n",
              "    const li = document.createElement('li');\n",
              "    li.append(span(file.name, {fontWeight: 'bold'}));\n",
              "    li.append(span(\n",
              "        `(${file.type || 'n/a'}) - ${file.size} bytes, ` +\n",
              "        `last modified: ${\n",
              "            file.lastModifiedDate ? file.lastModifiedDate.toLocaleDateString() :\n",
              "                                    'n/a'} - `));\n",
              "    const percent = span('0% done');\n",
              "    li.appendChild(percent);\n",
              "\n",
              "    outputElement.appendChild(li);\n",
              "\n",
              "    const fileDataPromise = new Promise((resolve) => {\n",
              "      const reader = new FileReader();\n",
              "      reader.onload = (e) => {\n",
              "        resolve(e.target.result);\n",
              "      };\n",
              "      reader.readAsArrayBuffer(file);\n",
              "    });\n",
              "    // Wait for the data to be ready.\n",
              "    let fileData = yield {\n",
              "      promise: fileDataPromise,\n",
              "      response: {\n",
              "        action: 'continue',\n",
              "      }\n",
              "    };\n",
              "\n",
              "    // Use a chunked sending to avoid message size limits. See b/62115660.\n",
              "    let position = 0;\n",
              "    do {\n",
              "      const length = Math.min(fileData.byteLength - position, MAX_PAYLOAD_SIZE);\n",
              "      const chunk = new Uint8Array(fileData, position, length);\n",
              "      position += length;\n",
              "\n",
              "      const base64 = btoa(String.fromCharCode.apply(null, chunk));\n",
              "      yield {\n",
              "        response: {\n",
              "          action: 'append',\n",
              "          file: file.name,\n",
              "          data: base64,\n",
              "        },\n",
              "      };\n",
              "\n",
              "      let percentDone = fileData.byteLength === 0 ?\n",
              "          100 :\n",
              "          Math.round((position / fileData.byteLength) * 100);\n",
              "      percent.textContent = `${percentDone}% done`;\n",
              "\n",
              "    } while (position < fileData.byteLength);\n",
              "  }\n",
              "\n",
              "  // All done.\n",
              "  yield {\n",
              "    response: {\n",
              "      action: 'complete',\n",
              "    }\n",
              "  };\n",
              "}\n",
              "\n",
              "scope.google = scope.google || {};\n",
              "scope.google.colab = scope.google.colab || {};\n",
              "scope.google.colab._files = {\n",
              "  _uploadFiles,\n",
              "  _uploadFilesContinue,\n",
              "};\n",
              "})(self);\n",
              "</script> "
            ]
          },
          "metadata": {}
        },
        {
          "output_type": "stream",
          "name": "stdout",
          "text": [
            "Saving computer_prices_all.csv to computer_prices_all.csv\n"
          ]
        }
      ]
    },
    {
      "cell_type": "markdown",
      "source": [
        "# **4. Exploratory Data Analysis (EDA)**\n",
        "\n",
        "Pada tahap ini, Anda akan melakukan **Exploratory Data Analysis (EDA)** untuk memahami karakteristik dataset.\n",
        "\n",
        "Tujuan dari EDA adalah untuk memperoleh wawasan awal yang mendalam mengenai data dan menentukan langkah selanjutnya dalam analisis atau pemodelan."
      ],
      "metadata": {
        "id": "bgZkbJLpK9UR"
      }
    },
    {
      "cell_type": "code",
      "source": [
        "df = pd.read_csv('computer_prices_all.csv')\n",
        "print(\"Dataset Info:\")\n",
        "print(df.info())\n",
        "print(\"\\nDescriptive Statistics:\")\n",
        "print(df.describe())\n",
        "print(\"\\nMissing Values:\")\n",
        "print(\"\\nJumlah Nilai Kosong per Kolom:\")\n",
        "print(df.isnull().sum())\n",
        "\n",
        "# Visualisasi harga\n",
        "plt.figure(figsize=(8,4))\n",
        "sns.histplot(df['price'], bins=20, kde=True)\n",
        "plt.title(\"Distribusi Harga Komputer\")\n",
        "plt.xlabel(\"Price ($)\")\n",
        "plt.ylabel(\"Frekuensi\")\n",
        "plt.show()"
      ],
      "metadata": {
        "id": "dKeejtvxM6X1",
        "colab": {
          "base_uri": "https://localhost:8080/",
          "height": 1000
        },
        "outputId": "77f34e66-ea91-4eb7-ee32-559c2b877f3d"
      },
      "execution_count": null,
      "outputs": [
        {
          "output_type": "stream",
          "name": "stdout",
          "text": [
            "Dataset Info:\n",
            "<class 'pandas.core.frame.DataFrame'>\n",
            "RangeIndex: 100000 entries, 0 to 99999\n",
            "Data columns (total 33 columns):\n",
            " #   Column               Non-Null Count   Dtype  \n",
            "---  ------               --------------   -----  \n",
            " 0   device_type          100000 non-null  object \n",
            " 1   brand                100000 non-null  object \n",
            " 2   model                100000 non-null  object \n",
            " 3   release_year         100000 non-null  int64  \n",
            " 4   os                   100000 non-null  object \n",
            " 5   form_factor          100000 non-null  object \n",
            " 6   cpu_brand            100000 non-null  object \n",
            " 7   cpu_model            100000 non-null  object \n",
            " 8   cpu_tier             100000 non-null  int64  \n",
            " 9   cpu_cores            100000 non-null  int64  \n",
            " 10  cpu_threads          100000 non-null  int64  \n",
            " 11  cpu_base_ghz         100000 non-null  float64\n",
            " 12  cpu_boost_ghz        100000 non-null  float64\n",
            " 13  gpu_brand            100000 non-null  object \n",
            " 14  gpu_model            100000 non-null  object \n",
            " 15  gpu_tier             100000 non-null  int64  \n",
            " 16  vram_gb              100000 non-null  int64  \n",
            " 17  ram_gb               100000 non-null  int64  \n",
            " 18  storage_type         100000 non-null  object \n",
            " 19  storage_gb           100000 non-null  int64  \n",
            " 20  storage_drive_count  100000 non-null  int64  \n",
            " 21  display_type         100000 non-null  object \n",
            " 22  display_size_in      100000 non-null  float64\n",
            " 23  resolution           100000 non-null  object \n",
            " 24  refresh_hz           100000 non-null  int64  \n",
            " 25  battery_wh           100000 non-null  int64  \n",
            " 26  charger_watts        100000 non-null  int64  \n",
            " 27  psu_watts            100000 non-null  int64  \n",
            " 28  wifi                 100000 non-null  object \n",
            " 29  bluetooth            100000 non-null  float64\n",
            " 30  weight_kg            100000 non-null  float64\n",
            " 31  warranty_months      100000 non-null  int64  \n",
            " 32  price                100000 non-null  float64\n",
            "dtypes: float64(6), int64(14), object(13)\n",
            "memory usage: 25.2+ MB\n",
            "None\n",
            "\n",
            "Descriptive Statistics:\n",
            "        release_year       cpu_tier      cpu_cores    cpu_threads  \\\n",
            "count  100000.000000  100000.000000  100000.000000  100000.000000   \n",
            "mean     2022.320850       3.153490      10.515740      19.372700   \n",
            "std         2.025761       1.373175       5.044092       9.718426   \n",
            "min      2018.000000       1.000000       4.000000       4.000000   \n",
            "25%      2021.000000       2.000000       6.000000      12.000000   \n",
            "50%      2023.000000       3.000000       8.000000      16.000000   \n",
            "75%      2024.000000       4.000000      14.000000      24.000000   \n",
            "max      2025.000000       6.000000      28.000000      56.000000   \n",
            "\n",
            "        cpu_base_ghz  cpu_boost_ghz       gpu_tier        vram_gb  \\\n",
            "count  100000.000000  100000.000000  100000.000000  100000.000000   \n",
            "mean        2.591322       3.531310       2.991350       6.152180   \n",
            "std         0.336435       0.350024       1.459643       3.964926   \n",
            "min         2.000000       2.800000       1.000000       0.000000   \n",
            "25%         2.400000       3.300000       2.000000       4.000000   \n",
            "50%         2.600000       3.500000       3.000000       6.000000   \n",
            "75%         2.800000       3.800000       4.000000       8.000000   \n",
            "max         3.400000       4.500000       6.000000      16.000000   \n",
            "\n",
            "              ram_gb     storage_gb  storage_drive_count  display_size_in  \\\n",
            "count  100000.000000  100000.000000        100000.000000    100000.000000   \n",
            "mean       39.706400     903.936000             1.524980        20.126655   \n",
            "std        31.902684     774.243654             0.797284         6.709577   \n",
            "min         8.000000     256.000000             1.000000        13.300000   \n",
            "25%        16.000000     512.000000             1.000000        14.000000   \n",
            "50%        32.000000     512.000000             1.000000        16.000000   \n",
            "75%        64.000000    1024.000000             2.000000        27.000000   \n",
            "max       144.000000    4096.000000             4.000000        34.000000   \n",
            "\n",
            "          refresh_hz     battery_wh  charger_watts      psu_watts  \\\n",
            "count  100000.000000  100000.000000  100000.000000  100000.000000   \n",
            "mean       98.464860      41.813470      61.383450     272.520500   \n",
            "std        43.301652      35.868841      62.795034     354.686355   \n",
            "min        60.000000       0.000000       0.000000       0.000000   \n",
            "25%        60.000000       0.000000       0.000000       0.000000   \n",
            "50%        90.000000      56.000000      65.000000       0.000000   \n",
            "75%       120.000000      70.000000      90.000000     650.000000   \n",
            "max       240.000000      99.000000     240.000000    1200.000000   \n",
            "\n",
            "           bluetooth      weight_kg  warranty_months          price  \n",
            "count  100000.000000  100000.000000     100000.00000  100000.000000  \n",
            "mean        5.084764       4.289699         22.20036    1928.764220  \n",
            "std         0.245977       3.814628         10.23190     580.492689  \n",
            "min         4.200000       0.920000         12.00000     372.990000  \n",
            "25%         5.000000       1.500000         12.00000    1503.990000  \n",
            "50%         5.100000       2.000000         24.00000    1863.990000  \n",
            "75%         5.200000       7.000000         24.00000    2287.990000  \n",
            "max         5.300000      16.000000         48.00000   10984.990000  \n",
            "\n",
            "Missing Values:\n",
            "\n",
            "Jumlah Nilai Kosong per Kolom:\n",
            "device_type            0\n",
            "brand                  0\n",
            "model                  0\n",
            "release_year           0\n",
            "os                     0\n",
            "form_factor            0\n",
            "cpu_brand              0\n",
            "cpu_model              0\n",
            "cpu_tier               0\n",
            "cpu_cores              0\n",
            "cpu_threads            0\n",
            "cpu_base_ghz           0\n",
            "cpu_boost_ghz          0\n",
            "gpu_brand              0\n",
            "gpu_model              0\n",
            "gpu_tier               0\n",
            "vram_gb                0\n",
            "ram_gb                 0\n",
            "storage_type           0\n",
            "storage_gb             0\n",
            "storage_drive_count    0\n",
            "display_type           0\n",
            "display_size_in        0\n",
            "resolution             0\n",
            "refresh_hz             0\n",
            "battery_wh             0\n",
            "charger_watts          0\n",
            "psu_watts              0\n",
            "wifi                   0\n",
            "bluetooth              0\n",
            "weight_kg              0\n",
            "warranty_months        0\n",
            "price                  0\n",
            "dtype: int64\n"
          ]
        },
        {
          "output_type": "display_data",
          "data": {
            "text/plain": [
              "<Figure size 800x400 with 1 Axes>"
            ],
            "image/png": "[encoded data removed]"
          },
          "metadata": {}
        }
      ]
    },
    {
      "cell_type": "markdown",
      "source": [
        "# **5. Data Preprocessing**"
      ],
      "metadata": {
        "id": "cpgHfgnSK3ip"
      }
    },
    {
      "cell_type": "markdown",
      "source": [
        "Pada tahap ini, data preprocessing adalah langkah penting untuk memastikan kualitas data sebelum digunakan dalam model machine learning.\n",
        "\n",
        "Jika Anda menggunakan data teks, data mentah sering kali mengandung nilai kosong, duplikasi, atau rentang nilai yang tidak konsisten, yang dapat memengaruhi kinerja model. Oleh karena itu, proses ini bertujuan untuk membersihkan dan mempersiapkan data agar analisis berjalan optimal.\n",
        "\n",
        "Berikut adalah tahapan-tahapan yang bisa dilakukan, tetapi **tidak terbatas** pada:\n",
        "1. Menghapus atau Menangani Data Kosong (Missing Values)\n",
        "2. Menghapus Data Duplikat\n",
        "3. Normalisasi atau Standarisasi Fitur\n",
        "4. Deteksi dan Penanganan Outlier\n",
        "5. Encoding Data Kategorikal\n",
        "6. Binning (Pengelompokan Data)\n",
        "\n",
        "Cukup sesuaikan dengan karakteristik data yang kamu gunakan yah. Khususnya ketika kami menggunakan data tidak terstruktur."
      ],
      "metadata": {
        "id": "COf8KUPXLg5r"
      }
    },
    {
      "cell_type": "code",
      "source": [
        "# --- 4.1 Menghapus atau Menangani Data Kosong (Missing Values)\n",
        "df = df.dropna()\n",
        "print(\"\\nSetelah menghapus missing values:\", df.shape)\n",
        "\n",
        "# --- 4.2 Menghapus Data Duplikat\n",
        "before = df.shape[0]\n",
        "df = df.drop_duplicates()\n",
        "after = df.shape[0]\n",
        "print(f\"Data duplikat dihapus: {before - after}\")\n",
        "\n",
        "# --- 4.3 Normalisasi atau Standarisasi Fitur Numerik\n",
        "scaler = MinMaxScaler()\n",
        "num_cols = df.select_dtypes(include=['float64','int64']).columns\n",
        "df[num_cols] = scaler.fit_transform(df[num_cols])\n",
        "print(\"\\nNormalisasi fitur numerik selesai.\")\n",
        "\n",
        "# --- 4.4 Deteksi dan Penanganan Outlier (Z-Score)\n",
        "z = np.abs(stats.zscore(df[num_cols]))\n",
        "df = df[(z < 3).all(axis=1)]\n",
        "print(\"Outlier dihapus, ukuran data sekarang:\", df.shape)\n",
        "\n",
        "# --- 4.5 Encoding Data Kategorikal\n",
        "cat_cols = df.select_dtypes(include=['object']).columns\n",
        "encoder = LabelEncoder()\n",
        "for col in cat_cols:\n",
        "    df[col] = encoder.fit_transform(df[col])\n",
        "print(\"\\nEncoding data kategorikal selesai.\")\n",
        "\n",
        "# --- 4.6 Binning (Contoh pada Kolom 'price')\n",
        "df['price_bin'] = pd.qcut(df['price'], q=3, labels=['Low', 'Medium', 'High'])\n",
        "print(\"\\nContoh hasil binning pada kolom price:\")\n",
        "print(df[['price', 'price_bin']].head())"
      ],
      "metadata": {
        "id": "Og8pGV0-iDLz",
        "colab": {
          "base_uri": "https://localhost:8080/"
        },
        "outputId": "4cb21da1-b564-4ddf-e403-9ed396418d1e"
      },
      "execution_count": null,
      "outputs": [
        {
          "output_type": "stream",
          "name": "stdout",
          "text": [
            "\n",
            "Setelah menghapus missing values: (100000, 33)\n",
            "Data duplikat dihapus: 0\n",
            "\n",
            "Normalisasi fitur numerik selesai.\n",
            "Outlier dihapus, ukuran data sekarang: (82347, 33)\n",
            "\n",
            "Encoding data kategorikal selesai.\n",
            "\n",
            "Contoh hasil binning pada kolom price:\n",
            "      price price_bin\n",
            "0  0.095270       Low\n",
            "1  0.179231      High\n",
            "2  0.142009    Medium\n",
            "3  0.090369       Low\n",
            "4  0.217584      High\n"
          ]
        }
      ]
    },
    {
      "cell_type": "code",
      "source": [
        "# Simpan dataset yang sudah diproses\n",
        "df.to_csv(\"computer_prices_clean.csv\", index=False)"
      ],
      "metadata": {
        "id": "O1PVlFp9eIZl"
      },
      "execution_count": null,
      "outputs": []
    }
  ]
}